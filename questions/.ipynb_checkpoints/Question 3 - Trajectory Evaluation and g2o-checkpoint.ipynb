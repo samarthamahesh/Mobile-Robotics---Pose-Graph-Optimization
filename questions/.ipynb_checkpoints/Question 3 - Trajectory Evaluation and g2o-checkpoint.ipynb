{
 "cells": [
  {
   "cell_type": "markdown",
   "id": "exposed-little",
   "metadata": {},
   "source": [
    "# Question 3: Trajectory Evaluation and g2o"
   ]
  },
  {
   "cell_type": "markdown",
   "id": "hearing-bachelor",
   "metadata": {},
   "source": [
    "_Refer to the example notebooks for installation instructions_"
   ]
  },
  {
   "cell_type": "code",
   "execution_count": 2,
   "id": "663ea7df",
   "metadata": {},
   "outputs": [],
   "source": [
    "import os"
   ]
  },
  {
   "cell_type": "markdown",
   "id": "radio-atlantic",
   "metadata": {},
   "source": [
    "# Evo"
   ]
  },
  {
   "cell_type": "markdown",
   "id": "recognized-booking",
   "metadata": {},
   "source": [
    "So you've implemented 2D SLAM, great! Now, what? We need a measure of how good the trajectory is. The error/loss used earlier doesn't tell us much about how the trajectory differs from the ground truth. Here, we try to do just this - compute error metrics. Rather than computing these from scratch, we will just Evo - https://github.com/MichaelGrupp/evo/."
   ]
  },
  {
   "cell_type": "markdown",
   "id": "amino-command",
   "metadata": {},
   "source": [
    "Look at the absolute pose error (APE) and relative pose error (RPE). What do they capture and how are they calculated (descriptive answer)? How do these metrics differ in methodology? Can we determine if the error is more along the x/y axis?\n",
    "\n",
    "Answer the above questions and report errors for the obtained trajectory."
   ]
  },
  {
   "cell_type": "markdown",
   "id": "07edf56a",
   "metadata": {},
   "source": [
    "##### Asolute Pose Error (APE)\n",
    "\n",
    "The global similarity or consistency of the optimized trajectory can be known only by comparing the optimized trajectory with the groundtruth trajectory. Hence, the APE gives the absolute deviation of the optimized trajectory with respect to the groundtruth trajectory. This term is also calles as Absolute Trajectory Error (ATE). This term computes the average deviation of the optimized trajectory from the groundtruth trajectory. It is computed by getting Root Mean Squared Error (RMSE) over the error matrix which is computed by using Horn method, which gives rigid body transformation S.\n",
    "\n",
    "$ E_i := Q_i^{-1}SP_i $\n",
    "\n",
    "$ APE_{rmse} = \\bigg( \\frac{1}{n} \\sum ||trans(E_i)||^2 \\bigg)^\\frac{1}{2} $\n",
    "\n",
    "##### Relative Pose Error (RPE)\n",
    "\n",
    "The relative pose error computes the local accuracy of the optimized trajectory. This is done over a fixed time interval $ \\Delta $. This basically means that RPE is mainly the local drift during the given time interval. At time step i, the RPE is computed using RPE error matrix F,\n",
    "\n",
    "$ F_i^{\\Delta} := \\big( Q_i^{-1}Q_{i+\\Delta} \\big)^{-1}\\big( P_i^{-1}P_{i+\\Delta} \\big) $\n",
    "\n",
    "RPE is calculated to translation and rotation separately using following equations,\n",
    "\n",
    "$ RPE_{trans}^{i,\\Delta} = \\bigg( \\frac{1}{m}\\sum ||trans(F_i)||^2 \\bigg)^{\\frac{1}{2}} $\n",
    "\n",
    "$ RPE_{rot}^{i,\\Delta} = \\frac{1}{m} \\sum \\angle (rot(F_i^{\\Delta} )) $\n",
    "\n",
    "\n",
    "\n",
    "The main difference between these two methodologies is that the APE computes the absolute error with respect to the groundtruth pose graph trajectory, which gives us the informatino about the accuracy of graph to the original groundtruth trajectory. Where RPE computes the relative error in a fixed time interval which basically gives the local drift. This mainly tells us about the drift at a particular time and hence give the local error.\n",
    "\n",
    "We cannot determine if the error is more along x/y axis because the errors compute the error as a whole. The error values compute the error / drift along the trajectory in terms of RMSE, hence we cannot tell which axis has more error."
   ]
  },
  {
   "cell_type": "code",
   "execution_count": 23,
   "id": "typical-brief",
   "metadata": {},
   "outputs": [],
   "source": [
    "# Write up with plots/images\n",
    "def evo_call(gt_path, gt_fname, gt_kname, opt_path, opt_fname, opt_kname):\n",
    "    cmd = \"python ../misc/g2o_to_kitti.py %s %s\" % (os.path.join(gt_path, gt_fname), os.path.join(gt_path, gt_kname))\n",
    "    os.system(cmd)\n",
    "    cmd = \"python ../misc/g2o_to_kitti.py %s %s\" % (os.path.join(opt_path, opt_fname), os.path.join(opt_path, opt_kname))\n",
    "    os.system(cmd)\n",
    "    \n",
    "    cmd = \"evo_rpe kitti %s %s -v --plot --plot_mode xy\" % (os.path.join(gt_path, gt_kname), os.path.join(opt_path, opt_kname))\n",
    "    os.system(cmd)\n",
    "    cmd = \"evo_ape kitti %s %s -v --plot --plot_mode xy\" % (os.path.join(gt_path, gt_kname), os.path.join(opt_path, opt_kname))\n",
    "    os.system(cmd)\n",
    "    cmd = \"evo_traj kitti %s %s -v --plot --plot_mode xy\" % (os.path.join(gt_path, gt_kname), os.path.join(opt_path, opt_kname))\n",
    "    os.system(cmd)"
   ]
  },
  {
   "cell_type": "markdown",
   "id": "487038f1",
   "metadata": {},
   "source": [
    "#### Information values (10, 500, 1000)"
   ]
  },
  {
   "cell_type": "code",
   "execution_count": 22,
   "id": "368fa6ce",
   "metadata": {
    "scrolled": true
   },
   "outputs": [
    {
     "name": "stdout",
     "output_type": "stream",
     "text": [
      "Figure(640x480)\n",
      "saved '../data/gt.kitti' from '../data/gt.txt'\n",
      "Figure(640x480)\n",
      "saved '../data/10,500,1000/opt.kitti' from '../data/10,500,1000/opt-edges-poses.g2o'\n",
      "--------------------------------------------------------------------------------\n",
      "Loaded 120 poses from: ../data/gt.kitti\n",
      "Loaded 120 poses from: ../data/10,500,1000/opt.kitti\n",
      "--------------------------------------------------------------------------------\n",
      "Found 119 pairs with delta 1 (frames) among 120 poses using consecutive pairs.\n",
      "Compared 119 relative pose pairs, delta = 1 (frames) with consecutive pairs.\n",
      "Calculating RPE for translation part pose relation...\n",
      "--------------------------------------------------------------------------------\n",
      "RPE w.r.t. translation part (m)\n",
      "for delta = 1 (frames) using consecutive pairs\n",
      "(not aligned)\n",
      "\n",
      "       max\t0.287000\n",
      "      mean\t0.117244\n",
      "    median\t0.113903\n",
      "       min\t0.005663\n",
      "      rmse\t0.132095\n",
      "       sse\t2.076430\n",
      "       std\t0.060850\n",
      "\n",
      "--------------------------------------------------------------------------------\n",
      "Plotting results... \n",
      "--------------------------------------------------------------------------------\n",
      "Loaded 120 poses from: ../data/gt.kitti\n",
      "Loaded 120 poses from: ../data/10,500,1000/opt.kitti\n",
      "--------------------------------------------------------------------------------\n",
      "Compared 120 absolute pose pairs.\n",
      "Calculating APE for translation part pose relation...\n",
      "--------------------------------------------------------------------------------\n",
      "APE w.r.t. translation part (m)\n",
      "(not aligned)\n",
      "\n",
      "       max\t10.230027\n",
      "      mean\t5.310538\n",
      "    median\t5.654662\n",
      "       min\t0.000000\n",
      "      rmse\t6.182798\n",
      "       sse\t4587.239296\n",
      "       std\t3.166256\n",
      "\n",
      "--------------------------------------------------------------------------------\n",
      "Plotting results... \n",
      "--------------------------------------------------------------------------------\n",
      "Loaded 120 poses from: ../data/gt.kitti\n",
      "Loaded 120 poses from: ../data/10,500,1000/opt.kitti\n",
      "--------------------------------------------------------------------------------\n",
      "name:\tgt\n",
      "infos:\n",
      "\tnr. of poses\t120\n",
      "\tpath length (m)\t52.976517997999295\n",
      "\tpos_end (m)\t[-2.8 -4.5  0. ]\n",
      "\tpos_start (m)\t[-8.  5.  0.]\n",
      "--------------------------------------------------------------------------------\n",
      "name:\topt\n",
      "infos:\n",
      "\tnr. of poses\t120\n",
      "\tpath length (m)\t53.762107757626914\n",
      "\tpos_end (m)\t[-0.15307224  4.01293278  0.        ]\n",
      "\tpos_start (m)\t[-8.  5.  0.]\n"
     ]
    }
   ],
   "source": [
    "evo_call(\"../data/\", \"gt.txt\", \"gt.kitti\", \"../data/10,500,1000\", \"opt-edges-poses.g2o\", \"opt.kitti\")"
   ]
  },
  {
   "cell_type": "markdown",
   "id": "6654b36a",
   "metadata": {},
   "source": [
    "RPE           | RPE Map\n",
    ":-------------------------:|:-------------------------:\n",
    "![](../data/10,500,1000/rpe.png)  |  ![](../data/10,500,1000/rpe_map.png)\n",
    "\n",
    "APE           | APE Map\n",
    ":-------------------------:|:-------------------------:\n",
    "![](../data/10,500,1000/ape.png)  |  ![](../data/10,500,1000/ape_map.png)\n",
    "\n",
    "Traj           | Traj XYZ | Traj RPY\n",
    ":-------------------------:|:-------------------------:|:-------------------------:\n",
    "![](../data/10,500,1000/traj.png)  |  ![](../data/10,500,1000/traj_xyz.png) | ![](../data/10,500,1000/traj_rpy.png)"
   ]
  },
  {
   "cell_type": "markdown",
   "id": "cbc318fc",
   "metadata": {},
   "source": [
    "#### Information values (100, 300, 500)"
   ]
  },
  {
   "cell_type": "code",
   "execution_count": 17,
   "id": "be9b9d83",
   "metadata": {
    "scrolled": true
   },
   "outputs": [
    {
     "name": "stdout",
     "output_type": "stream",
     "text": [
      "Figure(640x480)\n",
      "saved '../data/gt.kitti' from '../data/gt.txt'\n",
      "Figure(640x480)\n",
      "saved '../data/100,300,500/opt.kitti' from '../data/100,300,500/opt-edges-poses.g2o'\n",
      "--------------------------------------------------------------------------------\n",
      "Loaded 120 poses from: ../data/gt.kitti\n",
      "Loaded 120 poses from: ../data/100,300,500/opt.kitti\n",
      "--------------------------------------------------------------------------------\n",
      "Found 119 pairs with delta 1 (frames) among 120 poses using consecutive pairs.\n",
      "Compared 119 relative pose pairs, delta = 1 (frames) with consecutive pairs.\n",
      "Calculating RPE for translation part pose relation...\n",
      "--------------------------------------------------------------------------------\n",
      "RPE w.r.t. translation part (m)\n",
      "for delta = 1 (frames) using consecutive pairs\n",
      "(not aligned)\n",
      "\n",
      "       max\t0.286923\n",
      "      mean\t0.116683\n",
      "    median\t0.115166\n",
      "       min\t0.005964\n",
      "      rmse\t0.132124\n",
      "       sse\t2.077345\n",
      "       std\t0.061982\n",
      "\n",
      "--------------------------------------------------------------------------------\n",
      "Plotting results... \n",
      "--------------------------------------------------------------------------------\n",
      "Loaded 120 poses from: ../data/gt.kitti\n",
      "Loaded 120 poses from: ../data/100,300,500/opt.kitti\n",
      "--------------------------------------------------------------------------------\n",
      "Compared 120 absolute pose pairs.\n",
      "Calculating APE for translation part pose relation...\n",
      "--------------------------------------------------------------------------------\n",
      "APE w.r.t. translation part (m)\n",
      "(not aligned)\n",
      "\n",
      "       max\t10.167949\n",
      "      mean\t5.278517\n",
      "    median\t5.626553\n",
      "       min\t0.000001\n",
      "      rmse\t6.142953\n",
      "       sse\t4528.304879\n",
      "       std\t3.142153\n",
      "\n",
      "--------------------------------------------------------------------------------\n",
      "Plotting results... \n",
      "--------------------------------------------------------------------------------\n",
      "Loaded 120 poses from: ../data/gt.kitti\n",
      "Loaded 120 poses from: ../data/100,300,500/opt.kitti\n",
      "--------------------------------------------------------------------------------\n",
      "name:\tgt\n",
      "infos:\n",
      "\tnr. of poses\t120\n",
      "\tpath length (m)\t52.976517997999295\n",
      "\tpos_end (m)\t[-2.8 -4.5  0. ]\n",
      "\tpos_start (m)\t[-8.  5.  0.]\n",
      "--------------------------------------------------------------------------------\n",
      "name:\topt\n",
      "infos:\n",
      "\tnr. of poses\t120\n",
      "\tpath length (m)\t53.76260368072694\n",
      "\tpos_end (m)\t[-0.17106567  3.95018744  0.        ]\n",
      "\tpos_start (m)\t[-8.          4.99999905  0.        ]\n"
     ]
    }
   ],
   "source": [
    "evo_call(\"../data/\", \"gt.txt\", \"gt.kitti\", \"../data/100,300,500\", \"opt-edges-poses.g2o\", \"opt.kitti\")"
   ]
  },
  {
   "cell_type": "markdown",
   "id": "b70bd7c7",
   "metadata": {},
   "source": [
    "RPE           | RPE Map\n",
    ":-------------------------:|:-------------------------:\n",
    "![](../data/100,300,500/rpe.png)  |  ![](../data/100,300,500/rpe_map.png)\n",
    "\n",
    "APE           | APE Map\n",
    ":-------------------------:|:-------------------------:\n",
    "![](../data/100,300,500/ape.png)  |  ![](../data/100,300,500/ape_map.png)\n",
    "\n",
    "Traj           | Traj XYZ | Traj RPY\n",
    ":-------------------------:|:-------------------------:|:-------------------------:\n",
    "![](../data/100,300,500/traj.png)  |  ![](../data/100,300,500/traj_xyz.png) | ![](../data/100,300,500/traj_rpy.png)"
   ]
  },
  {
   "cell_type": "markdown",
   "id": "cf49907c",
   "metadata": {},
   "source": [
    "#### Information values (250, 500, 700)"
   ]
  },
  {
   "cell_type": "code",
   "execution_count": 19,
   "id": "1b036b58",
   "metadata": {
    "scrolled": true
   },
   "outputs": [
    {
     "name": "stdout",
     "output_type": "stream",
     "text": [
      "Figure(640x480)\n",
      "saved '../data/gt.kitti' from '../data/gt.txt'\n",
      "Figure(640x480)\n",
      "saved '../data/250,500,700/opt.kitti' from '../data/250,500,700/opt-edges-poses.g2o'\n",
      "--------------------------------------------------------------------------------\n",
      "Loaded 120 poses from: ../data/gt.kitti\n",
      "Loaded 120 poses from: ../data/250,500,700/opt.kitti\n",
      "--------------------------------------------------------------------------------\n",
      "Found 119 pairs with delta 1 (frames) among 120 poses using consecutive pairs.\n",
      "Compared 119 relative pose pairs, delta = 1 (frames) with consecutive pairs.\n",
      "Calculating RPE for translation part pose relation...\n",
      "--------------------------------------------------------------------------------\n",
      "RPE w.r.t. translation part (m)\n",
      "for delta = 1 (frames) using consecutive pairs\n",
      "(not aligned)\n",
      "\n",
      "       max\t0.286883\n",
      "      mean\t0.116612\n",
      "    median\t0.112213\n",
      "       min\t0.006119\n",
      "      rmse\t0.132304\n",
      "       sse\t2.083008\n",
      "       std\t0.062498\n",
      "\n",
      "--------------------------------------------------------------------------------\n",
      "Plotting results... \n",
      "--------------------------------------------------------------------------------\n",
      "Loaded 120 poses from: ../data/gt.kitti\n",
      "Loaded 120 poses from: ../data/250,500,700/opt.kitti\n",
      "--------------------------------------------------------------------------------\n",
      "Compared 120 absolute pose pairs.\n",
      "Calculating APE for translation part pose relation...\n",
      "--------------------------------------------------------------------------------\n",
      "APE w.r.t. translation part (m)\n",
      "(not aligned)\n",
      "\n",
      "       max\t10.135046\n",
      "      mean\t5.262060\n",
      "    median\t5.602726\n",
      "       min\t0.000001\n",
      "      rmse\t6.122501\n",
      "       sse\t4498.202614\n",
      "       std\t3.129816\n",
      "\n",
      "--------------------------------------------------------------------------------\n",
      "Plotting results... \n",
      "--------------------------------------------------------------------------------\n",
      "Loaded 120 poses from: ../data/gt.kitti\n",
      "Loaded 120 poses from: ../data/250,500,700/opt.kitti\n",
      "--------------------------------------------------------------------------------\n",
      "name:\tgt\n",
      "infos:\n",
      "\tnr. of poses\t120\n",
      "\tpath length (m)\t52.976517997999295\n",
      "\tpos_end (m)\t[-2.8 -4.5  0. ]\n",
      "\tpos_start (m)\t[-8.  5.  0.]\n",
      "--------------------------------------------------------------------------------\n",
      "name:\topt\n",
      "infos:\n",
      "\tnr. of poses\t120\n",
      "\tpath length (m)\t53.76634411583001\n",
      "\tpos_end (m)\t[-0.18005864  3.9180491   0.        ]\n",
      "\tpos_start (m)\t[-8.          4.99999905  0.        ]\n"
     ]
    }
   ],
   "source": [
    "evo_call(\"../data/\", \"gt.txt\", \"gt.kitti\", \"../data/250,500,700\", \"opt-edges-poses.g2o\", \"opt.kitti\")"
   ]
  },
  {
   "cell_type": "markdown",
   "id": "261580cd",
   "metadata": {},
   "source": [
    "RPE           | RPE Map\n",
    ":-------------------------:|:-------------------------:\n",
    "![](../data/250,500,700/rpe.png)  |  ![](../data/250,500,700/rpe_map.png)\n",
    "\n",
    "APE           | APE Map\n",
    ":-------------------------:|:-------------------------:\n",
    "![](../data/250,500,700/ape.png)  |  ![](../data/250,500,700/ape_map.png)\n",
    "\n",
    "Traj           | Traj XYZ | Traj RPY\n",
    ":-------------------------:|:-------------------------:|:-------------------------:\n",
    "![](../data/250,500,700/traj.png)  |  ![](../data/250,500,700/traj_xyz.png) | ![](../data/250,500,700/traj_rpy.png)"
   ]
  },
  {
   "cell_type": "markdown",
   "id": "2f7c087c",
   "metadata": {},
   "source": [
    "#### Information values (250, 700, 1000)"
   ]
  },
  {
   "cell_type": "code",
   "execution_count": 21,
   "id": "e454b785",
   "metadata": {
    "scrolled": true
   },
   "outputs": [
    {
     "name": "stdout",
     "output_type": "stream",
     "text": [
      "Figure(640x480)\n",
      "saved '../data/gt.kitti' from '../data/gt.txt'\n",
      "Figure(640x480)\n",
      "saved '../data/250,700,1000/opt.kitti' from '../data/250,700,1000/opt-edges-poses.g2o'\n",
      "--------------------------------------------------------------------------------\n",
      "Loaded 120 poses from: ../data/gt.kitti\n",
      "Loaded 120 poses from: ../data/250,700,1000/opt.kitti\n",
      "--------------------------------------------------------------------------------\n",
      "Found 119 pairs with delta 1 (frames) among 120 poses using consecutive pairs.\n",
      "Compared 119 relative pose pairs, delta = 1 (frames) with consecutive pairs.\n",
      "Calculating RPE for translation part pose relation...\n",
      "--------------------------------------------------------------------------------\n",
      "RPE w.r.t. translation part (m)\n",
      "for delta = 1 (frames) using consecutive pairs\n",
      "(not aligned)\n",
      "\n",
      "       max\t0.286916\n",
      "      mean\t0.116667\n",
      "    median\t0.115016\n",
      "       min\t0.005987\n",
      "      rmse\t0.132146\n",
      "       sse\t2.078036\n",
      "       std\t0.062059\n",
      "\n",
      "--------------------------------------------------------------------------------\n",
      "Plotting results... \n",
      "--------------------------------------------------------------------------------\n",
      "Loaded 120 poses from: ../data/gt.kitti\n",
      "Loaded 120 poses from: ../data/250,700,1000/opt.kitti\n",
      "--------------------------------------------------------------------------------\n",
      "Compared 120 absolute pose pairs.\n",
      "Calculating APE for translation part pose relation...\n",
      "--------------------------------------------------------------------------------\n",
      "APE w.r.t. translation part (m)\n",
      "(not aligned)\n",
      "\n",
      "       max\t10.163860\n",
      "      mean\t5.276422\n",
      "    median\t5.623469\n",
      "       min\t0.000000\n",
      "      rmse\t6.140343\n",
      "       sse\t4524.458083\n",
      "       std\t3.140571\n",
      "\n",
      "--------------------------------------------------------------------------------\n",
      "Plotting results... \n",
      "--------------------------------------------------------------------------------\n",
      "Loaded 120 poses from: ../data/gt.kitti\n",
      "Loaded 120 poses from: ../data/250,700,1000/opt.kitti\n",
      "--------------------------------------------------------------------------------\n",
      "name:\tgt\n",
      "infos:\n",
      "\tnr. of poses\t120\n",
      "\tpath length (m)\t52.976517997999295\n",
      "\tpos_end (m)\t[-2.8 -4.5  0. ]\n",
      "\tpos_start (m)\t[-8.  5.  0.]\n",
      "--------------------------------------------------------------------------------\n",
      "name:\topt\n",
      "infos:\n",
      "\tnr. of poses\t120\n",
      "\tpath length (m)\t53.76306150184961\n",
      "\tpos_end (m)\t[-0.17235821  3.94610119  0.        ]\n",
      "\tpos_start (m)\t[-8.          4.99999952  0.        ]\n"
     ]
    }
   ],
   "source": [
    "evo_call(\"../data/\", \"gt.txt\", \"gt.kitti\", \"../data/250,700,1000\", \"opt-edges-poses.g2o\", \"opt.kitti\")"
   ]
  },
  {
   "cell_type": "markdown",
   "id": "f56d3935",
   "metadata": {},
   "source": [
    "RPE           | RPE Map\n",
    ":-------------------------:|:-------------------------:\n",
    "![](../data/250,700,1000/rpe.png)  |  ![](../data/250,700,1000/rpe_map.png)\n",
    "\n",
    "APE           | APE Map\n",
    ":-------------------------:|:-------------------------:\n",
    "![](../data/250,700,1000/ape.png)  |  ![](../data/250,700,1000/ape_map.png)\n",
    "\n",
    "Traj           | Traj XYZ | Traj RPY\n",
    ":-------------------------:|:-------------------------:|:-------------------------:\n",
    "![](../data/250,700,1000/traj.png)  |  ![](../data/250,700,1000/traj_xyz.png) | ![](../data/250,700,1000/traj_rpy.png)"
   ]
  },
  {
   "cell_type": "markdown",
   "id": "6a819d11",
   "metadata": {},
   "source": [
    "#### Informatino values (500, 700, 1000)"
   ]
  },
  {
   "cell_type": "code",
   "execution_count": 24,
   "id": "8218050a",
   "metadata": {
    "scrolled": true
   },
   "outputs": [
    {
     "name": "stdout",
     "output_type": "stream",
     "text": [
      "Figure(640x480)\n",
      "saved '../data/gt.kitti' from '../data/gt.txt'\n",
      "Figure(640x480)\n",
      "saved '../data/500,700,1000/opt.kitti' from '../data/500,700,1000/opt-edges-poses.g2o'\n",
      "--------------------------------------------------------------------------------\n",
      "Loaded 120 poses from: ../data/gt.kitti\n",
      "Loaded 120 poses from: ../data/500,700,1000/opt.kitti\n",
      "--------------------------------------------------------------------------------\n",
      "Found 119 pairs with delta 1 (frames) among 120 poses using consecutive pairs.\n",
      "Compared 119 relative pose pairs, delta = 1 (frames) with consecutive pairs.\n",
      "Calculating RPE for translation part pose relation...\n",
      "--------------------------------------------------------------------------------\n",
      "RPE w.r.t. translation part (m)\n",
      "for delta = 1 (frames) using consecutive pairs\n",
      "(not aligned)\n",
      "\n",
      "       max\t0.286835\n",
      "      mean\t0.116623\n",
      "    median\t0.108887\n",
      "       min\t0.006303\n",
      "      rmse\t0.132587\n",
      "       sse\t2.091953\n",
      "       std\t0.063075\n",
      "\n",
      "--------------------------------------------------------------------------------\n",
      "Plotting results... \n",
      "--------------------------------------------------------------------------------\n",
      "Loaded 120 poses from: ../data/gt.kitti\n",
      "Loaded 120 poses from: ../data/500,700,1000/opt.kitti\n",
      "--------------------------------------------------------------------------------\n",
      "Compared 120 absolute pose pairs.\n",
      "Calculating APE for translation part pose relation...\n",
      "--------------------------------------------------------------------------------\n",
      "APE w.r.t. translation part (m)\n",
      "(not aligned)\n",
      "\n",
      "       max\t10.090605\n",
      "      mean\t5.240365\n",
      "    median\t5.598852\n",
      "       min\t0.000000\n",
      "      rmse\t6.095557\n",
      "       sse\t4458.698077\n",
      "       std\t3.113582\n",
      "\n",
      "--------------------------------------------------------------------------------\n",
      "Plotting results... \n",
      "--------------------------------------------------------------------------------\n",
      "Loaded 120 poses from: ../data/gt.kitti\n",
      "Loaded 120 poses from: ../data/500,700,1000/opt.kitti\n",
      "--------------------------------------------------------------------------------\n",
      "name:\tgt\n",
      "infos:\n",
      "\tnr. of poses\t120\n",
      "\tpath length (m)\t52.976517997999295\n",
      "\tpos_end (m)\t[-2.8 -4.5  0. ]\n",
      "\tpos_start (m)\t[-8.  5.  0.]\n",
      "--------------------------------------------------------------------------------\n",
      "name:\topt\n",
      "infos:\n",
      "\tnr. of poses\t120\n",
      "\tpath length (m)\t53.772125266766025\n",
      "\tpos_end (m)\t[-0.19048454  3.8755281   0.        ]\n",
      "\tpos_start (m)\t[-8.  5.  0.]\n"
     ]
    }
   ],
   "source": [
    "evo_call(\"../data/\", \"gt.txt\", \"gt.kitti\", \"../data/500,700,1000\", \"opt-edges-poses.g2o\", \"opt.kitti\")"
   ]
  },
  {
   "cell_type": "markdown",
   "id": "216878e2",
   "metadata": {},
   "source": [
    "RPE           | RPE Map\n",
    ":-------------------------:|:-------------------------:\n",
    "![](../data/500,700,1000/rpe.png)  |  ![](../data/500,700,1000/rpe_map.png)\n",
    "\n",
    "APE           | APE Map\n",
    ":-------------------------:|:-------------------------:\n",
    "![](../data/500,700,1000/ape.png)  |  ![](../data/500,700,1000/ape_map.png)\n",
    "\n",
    "Traj           | Traj XYZ | Traj RPY\n",
    ":-------------------------:|:-------------------------:|:-------------------------:\n",
    "![](../data/500,700,1000/traj.png)  |  ![](../data/500,700,1000/traj_xyz.png) | ![](../data/500,700,1000/traj_rpy.png)"
   ]
  },
  {
   "cell_type": "markdown",
   "id": "surrounded-anderson",
   "metadata": {},
   "source": [
    "If you're interested, play around with this tool and add any other plots that you think might be relevant/interesting."
   ]
  },
  {
   "cell_type": "markdown",
   "id": "exceptional-charity",
   "metadata": {},
   "source": [
    "# g2o"
   ]
  },
  {
   "cell_type": "markdown",
   "id": "presidential-hayes",
   "metadata": {},
   "source": [
    "Install g2o as mentioned in `examples/g2o.ipynb` and optimise `edges.txt`, the file you used earlier. Also use `g2o_viewer` and optimize `intel` (a trajectory in the Intel research lab) and `sphere`. They should look something like:\n",
    "\n",
    "\n",
    "<table><tr>\n",
    "<td> <img src=\"../misc/intel.jpg\" alt=\"Drawing\" style=\"width: 250px;\"/> </td>\n",
    "<td> <img src=\"../misc/sphere.jpg\" alt=\"Drawing\" style=\"width: 250px;\"/> </td>\n",
    "</tr></table>"
   ]
  },
  {
   "cell_type": "markdown",
   "id": "amino-football",
   "metadata": {},
   "source": [
    "Write briefly about your observations and try out few options in the GUI. What do they do, how do they perform?"
   ]
  },
  {
   "cell_type": "markdown",
   "id": "5571092b",
   "metadata": {},
   "source": [
    "### g2o on edges.txt"
   ]
  },
  {
   "cell_type": "code",
   "execution_count": 25,
   "id": "interstate-arizona",
   "metadata": {},
   "outputs": [
    {
     "name": "stderr",
     "output_type": "stream",
     "text": [
      "# Using EigenSparseCholesky poseDim -1 landMarkDim -1 blockordering 1\n",
      "Read input from ../data/edges-poses.g2o\n",
      "Loaded 120 vertices\n",
      "Loaded 139 edges\n",
      "# graph is fixed by priors or already fixed vertex\n",
      "Initial chi2 = 573824.298424\n",
      "saving ../outputs/edges/opt.g2o ... done.\n"
     ]
    }
   ],
   "source": [
    "def g2o_call(g2o_path, g2o_fname, opt_path, opt_fname):\n",
    "    if not os.path.exists(opt_path):\n",
    "        os.makedirs(opt_path)\n",
    "        \n",
    "    cmd = \"g2o -o %s %s\" % (os.path.join(opt_path, opt_fname), os.path.join(g2o_path, g2o_fname))\n",
    "    os.system(cmd)\n",
    "    \n",
    "g2o_call(\"../data/\", \"edges-poses.g2o\", \"../outputs/edges/\", \"opt.g2o\")"
   ]
  },
  {
   "cell_type": "code",
   "execution_count": 26,
   "id": "32c47300",
   "metadata": {
    "scrolled": true
   },
   "outputs": [
    {
     "name": "stdout",
     "output_type": "stream",
     "text": [
      "Figure(640x480)\n",
      "saved '../data/gt.kitti' from '../data/gt.txt'\n",
      "Figure(640x480)\n",
      "saved '../outputs/edges/opt.kitti' from '../outputs/edges/opt.g2o'\n",
      "--------------------------------------------------------------------------------\n",
      "Loaded 120 poses from: ../data/gt.kitti\n",
      "Loaded 120 poses from: ../outputs/edges/opt.kitti\n",
      "--------------------------------------------------------------------------------\n",
      "Found 119 pairs with delta 1 (frames) among 120 poses using consecutive pairs.\n",
      "Compared 119 relative pose pairs, delta = 1 (frames) with consecutive pairs.\n",
      "Calculating RPE for translation part pose relation...\n",
      "--------------------------------------------------------------------------------\n",
      "RPE w.r.t. translation part (m)\n",
      "for delta = 1 (frames) using consecutive pairs\n",
      "(not aligned)\n",
      "\n",
      "       max\t0.256198\n",
      "      mean\t0.114314\n",
      "    median\t0.097856\n",
      "       min\t0.009129\n",
      "      rmse\t0.128961\n",
      "       sse\t1.979068\n",
      "       std\t0.059691\n",
      "\n",
      "--------------------------------------------------------------------------------\n",
      "Plotting results... \n",
      "--------------------------------------------------------------------------------\n",
      "Loaded 120 poses from: ../data/gt.kitti\n",
      "Loaded 120 poses from: ../outputs/edges/opt.kitti\n",
      "--------------------------------------------------------------------------------\n",
      "Compared 120 absolute pose pairs.\n",
      "Calculating APE for translation part pose relation...\n",
      "--------------------------------------------------------------------------------\n",
      "APE w.r.t. translation part (m)\n",
      "(not aligned)\n",
      "\n",
      "       max\t1.863155\n",
      "      mean\t0.704550\n",
      "    median\t0.558657\n",
      "       min\t0.000000\n",
      "      rmse\t0.882165\n",
      "       sse\t93.385736\n",
      "       std\t0.530871\n",
      "\n",
      "--------------------------------------------------------------------------------\n",
      "Plotting results... \n",
      "--------------------------------------------------------------------------------\n",
      "Loaded 120 poses from: ../data/gt.kitti\n",
      "Loaded 120 poses from: ../outputs/edges/opt.kitti\n",
      "--------------------------------------------------------------------------------\n",
      "name:\tgt\n",
      "infos:\n",
      "\tnr. of poses\t120\n",
      "\tpath length (m)\t52.976517997999295\n",
      "\tpos_end (m)\t[-2.8 -4.5  0. ]\n",
      "\tpos_start (m)\t[-8.  5.  0.]\n",
      "--------------------------------------------------------------------------------\n",
      "name:\topt\n",
      "infos:\n",
      "\tnr. of poses\t120\n",
      "\tpath length (m)\t53.81650893995742\n",
      "\tpos_end (m)\t[-3.28756 -5.45456  0.     ]\n",
      "\tpos_start (m)\t[-8.  5.  0.]\n"
     ]
    }
   ],
   "source": [
    "evo_call(\"../data/\", \"gt.txt\", \"gt.kitti\", \"../outputs/edges\", \"opt.g2o\", \"opt.kitti\")"
   ]
  },
  {
   "cell_type": "markdown",
   "id": "be25950f",
   "metadata": {},
   "source": [
    "RPE           | RPE Map\n",
    ":-------------------------:|:-------------------------:\n",
    "![](../outputs/edges/rpe.png)  |  ![](../outputs/edges/rpe_map.png)\n",
    "\n",
    "APE           | APE Map\n",
    ":-------------------------:|:-------------------------:\n",
    "![](../outputs/edges/ape.png)  |  ![](../outputs/edges/ape_map.png)\n",
    "\n",
    "Traj           | Traj XYZ | Traj RPY\n",
    ":-------------------------:|:-------------------------:|:-------------------------:\n",
    "![](../outputs/edges/traj.png)  |  ![](../outputs/edges/traj_xyz.png) | ![](../outputs/edges/traj_rpy.png)"
   ]
  },
  {
   "cell_type": "markdown",
   "id": "300ce7c5",
   "metadata": {},
   "source": [
    "### g2o viewer on edges"
   ]
  },
  {
   "cell_type": "code",
   "execution_count": 33,
   "id": "32c18933",
   "metadata": {},
   "outputs": [
    {
     "data": {
      "text/plain": [
       "0"
      ]
     },
     "execution_count": 33,
     "metadata": {},
     "output_type": "execute_result"
    }
   ],
   "source": [
    "cmd = \"g2o_viewer ../data/edges-poses.g2o\"\n",
    "os.system(cmd)"
   ]
  },
  {
   "cell_type": "markdown",
   "id": "9c87c715",
   "metadata": {},
   "source": [
    "### Results on Edges data\n",
    "\n",
    "#### Initial edges.g2o\n",
    "![](../outputs/q2o_viewer/edges_init.png)\n",
    "\n",
    "\n",
    "#### Optimized edges.g2o (10 iterations) \n",
    "![](../outputs/q2o_viewer/edges_10.png)\n",
    "\n",
    "\n",
    "#### Optimized edges.g2o (50 iterations)\n",
    "![](../outputs/q2o_viewer/edges_50.png)\n",
    "\n",
    "\n",
    "From the above plot with information iterations, we see that from 4th iteration, the chi value (which corresponds to the error) is constant and has been optimized. Hence, the g2o has optimized the edges data in just 4 iterations. This could be due to less amount of data present. The optimizer used in g2o_viewer was gn_val_cholmod."
   ]
  },
  {
   "cell_type": "markdown",
   "id": "8e52c02a",
   "metadata": {},
   "source": [
    "### g2o viewer on intel"
   ]
  },
  {
   "cell_type": "code",
   "execution_count": 32,
   "id": "f0f3d2b1",
   "metadata": {},
   "outputs": [
    {
     "data": {
      "text/plain": [
       "0"
      ]
     },
     "execution_count": 32,
     "metadata": {},
     "output_type": "execute_result"
    }
   ],
   "source": [
    "cmd = \"g2o_viewer ../data/intel.g2o\"\n",
    "os.system(cmd)"
   ]
  },
  {
   "cell_type": "markdown",
   "id": "c8387076",
   "metadata": {},
   "source": [
    "### Results on Intel data\n",
    "\n",
    "#### Initial intel.g2o\n",
    "![](../outputs/q2o_viewer/intel_init.png)\n",
    "\n",
    "\n",
    "#### Optimized intel.g2o (10 iterations) \n",
    "![](../outputs/q2o_viewer/intel_10.png)\n",
    "\n",
    "\n",
    "#### Optimized intel.g2o (50 iterations)\n",
    "![](../outputs/q2o_viewer/intel_50.png)\n",
    "\n",
    "\n",
    "From the above plot with information iterations, we see that from 4th iteration, the chi value (which corresponds to the error) is constant and has been optimized. Hence, the g2o has optimized the intel data in just 4 iterations. This could be due to less amount of data. The optimizer used in g2o_viewer was gn_var_cholmod."
   ]
  },
  {
   "cell_type": "markdown",
   "id": "2fc3353e",
   "metadata": {},
   "source": [
    "### g2o viewer on sphere"
   ]
  },
  {
   "cell_type": "code",
   "execution_count": 35,
   "id": "225388aa",
   "metadata": {},
   "outputs": [
    {
     "data": {
      "text/plain": [
       "0"
      ]
     },
     "execution_count": 35,
     "metadata": {},
     "output_type": "execute_result"
    }
   ],
   "source": [
    "cmd = \"g2o_viewer ../data/sphere.g2o\"\n",
    "os.system(cmd)"
   ]
  },
  {
   "cell_type": "markdown",
   "id": "a12090bc",
   "metadata": {},
   "source": [
    "### Results on sphere data\n",
    "\n",
    "#### Initial sphere.g2o\n",
    "![](../outputs/q2o_viewer/sphere_init.png)\n",
    "\n",
    "\n",
    "#### Optimized sphere.g2o (10 iterations) (gn_var_cholmod)\n",
    "![](../outputs/q2o_viewer/sphere_10_gn.png)\n",
    "\n",
    "\n",
    "#### Optimized sphere.g2o (100 iterations) (gn_var_cholmod)\n",
    "![](../outputs/q2o_viewer/sphere_100_gn.png)\n",
    "\n",
    "\n",
    "#### Optimized sphere.g2o (10 iterations) (lm_fix6_3_csparse)\n",
    "![](../outputs/q2o_viewer/sphere_10_lm.png)\n",
    "\n",
    "\n",
    "#### Optimized sphere.g2o (100 iterations) (lm_fix6_3_csparse)\n",
    "![](../outputs/q2o_viewer/sphere_100_lm.png)\n",
    "\n",
    "\n",
    "From the above plots with information about iterations, we can see that with gn_val_cholmod optimizer, the pose graph couldn't converge in 100 iterations also. Hence, using other optimizer which is lm_fix6_3_csparse and 100 iterations, the pose graph converged to groundtruth sphere pose graph. With the same optimizer and 10 iterations, it hadn't converged. This could be because of large data due to which it took sometime to converge unline other two datas (edges and intel)"
   ]
  },
  {
   "cell_type": "markdown",
   "id": "bd18f499",
   "metadata": {},
   "source": [
    "There are various options given in the GUI of g2o viewer applet.\n",
    "\n",
    "There is a tick option for draw axis, which mainly shows the axes if ticked else hides it.\n",
    "\n",
    "We have an input box for number of iterations, which is a variabe in optimization algorithm. THe algorithm runs for those many iterations which we input.\n",
    "\n",
    "There is tick option for robust kernel, which uses various methods to obtain robust kernel which is used in the g2o optiization algorithm.\n",
    "\n",
    "There is a dropdown for optimization, which has various types of optimization algorithms. We see two prefixes mainly in the types, which are\n",
    "* lm\n",
    "* gn\n",
    "    \n",
    "These correspond to LM (Levenberg Marquart) and GN (Gauss Newton) methods of update. In sphere data optimization we saw that GN didn't work, whereas LM did. This is because LM is combination of GD (gradient Descent) and GN (Gauss Newton), which is more robust.\n",
    "    \n",
    "And we also see mainly two suffixes, which are\n",
    "    \n",
    "* cholmod\n",
    "* csparse\n",
    "    \n",
    "These are the matrix solvers used in te g2o algorithm."
   ]
  }
 ],
 "metadata": {
  "kernelspec": {
   "display_name": "Python 3",
   "language": "python",
   "name": "python3"
  },
  "language_info": {
   "codemirror_mode": {
    "name": "ipython",
    "version": 3
   },
   "file_extension": ".py",
   "mimetype": "text/x-python",
   "name": "python",
   "nbconvert_exporter": "python",
   "pygments_lexer": "ipython3",
   "version": "3.9.7"
  }
 },
 "nbformat": 4,
 "nbformat_minor": 5
}
